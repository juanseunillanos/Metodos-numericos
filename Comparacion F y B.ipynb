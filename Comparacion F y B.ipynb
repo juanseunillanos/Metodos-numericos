{
 "cells": [
  {
   "cell_type": "code",
   "execution_count": 3,
   "metadata": {
    "collapsed": false
   },
   "outputs": [
    {
     "name": "stdout",
     "output_type": "stream",
     "text": [
      "Et metodo biseccion                 Et metodo falsa posicion\n"
     ]
    },
    {
     "ename": "IndexError",
     "evalue": "list index out of range",
     "output_type": "error",
     "traceback": [
      "\u001b[1;31m---------------------------------------------------------------------------\u001b[0m",
      "\u001b[1;31mIndexError\u001b[0m                                Traceback (most recent call last)",
      "\u001b[1;32m<ipython-input-3-73f97d22d622>\u001b[0m in \u001b[0;36m<module>\u001b[1;34m()\u001b[0m\n\u001b[0;32m     41\u001b[0m \u001b[0mprint\u001b[0m   \u001b[1;33m(\u001b[0m\u001b[1;34m\"Et metodo biseccion                 Et metodo falsa posicion\"\u001b[0m \u001b[1;33m)\u001b[0m\u001b[1;33m\u001b[0m\u001b[0m\n\u001b[0;32m     42\u001b[0m \u001b[1;32mwhile\u001b[0m \u001b[0mn\u001b[0m\u001b[1;33m<\u001b[0m\u001b[1;36m16\u001b[0m\u001b[1;33m:\u001b[0m\u001b[1;33m\u001b[0m\u001b[0m\n\u001b[1;32m---> 43\u001b[1;33m     \u001b[0mprint\u001b[0m \u001b[1;33m(\u001b[0m\u001b[1;34m\"%s                         %s\"\u001b[0m\u001b[1;33m%\u001b[0m\u001b[1;33m(\u001b[0m\u001b[0mE1\u001b[0m\u001b[1;33m[\u001b[0m\u001b[0mn\u001b[0m\u001b[1;33m]\u001b[0m\u001b[1;33m,\u001b[0m\u001b[0mE2\u001b[0m\u001b[1;33m[\u001b[0m\u001b[0mn\u001b[0m\u001b[1;33m]\u001b[0m\u001b[1;33m)\u001b[0m\u001b[1;33m)\u001b[0m\u001b[1;33m\u001b[0m\u001b[0m\n\u001b[0m\u001b[0;32m     44\u001b[0m     \u001b[0mn\u001b[0m \u001b[1;33m=\u001b[0m \u001b[0mn\u001b[0m\u001b[1;33m+\u001b[0m\u001b[1;36m1\u001b[0m\u001b[1;33m\u001b[0m\u001b[0m\n\u001b[0;32m     45\u001b[0m \u001b[1;33m\u001b[0m\u001b[0m\n",
      "\u001b[1;31mIndexError\u001b[0m: list index out of range"
     ]
    }
   ],
   "source": [
    "#comparacion Falsa posicion y biseccion\n",
    "import matplotlib.pyplot as plt\n",
    "import math\n",
    "g,m,t,v= 9.8,68.1,10,40\n",
    "c,f,coe2,coe1,valorexac,E1,E2=1,0.0,[],[],14.780204,[],[]\n",
    "Xl,Xu,Xr,F1,F2 = 12.0,16.0,0.0,1.0,1.0\n",
    "\n",
    "def evaluar(valor):\n",
    "    fun = (g*m/valor)*(1-math.e**((-1*valor/m)*t))-v\n",
    "    return fun\n",
    "n=0\n",
    "\n",
    "while (fun1*fun2)!=0:\n",
    "    Xr =  Xu-(evaluar(Xu)*(Xl-Xu)/(evaluar(Xl)-evaluar(Xu)))\n",
    "    Et = (abs(valorexac-Xr)/Xr)*100\n",
    "    E1.append(Et)\n",
    "    F1 = evaluar(Xl)\n",
    "    F2 = evaluar(Xr)\n",
    "    if (F1*F2)<0:\n",
    "        Xu = Xr\n",
    "    if (F1*F2)>0:\n",
    "        Xl = Xr\n",
    "    coe1.append(n)\n",
    "    n = n+1\n",
    "\n",
    "n=0\n",
    "Xl,Xu,Xr,F1,F2 = 12.0,16.0,0.0,1.0,1.0\n",
    "while (F1*F2)!=0:\n",
    "    Xr =  (Xl+Xu)/2\n",
    "    Et = (abs(Xr-valorexac)/Xr)*100\n",
    "    E2.append(Et)\n",
    "    F1 = evaluar(Xl)\n",
    "    F2 = evaluar(Xr)\n",
    "    if (F1*F2)<0:\n",
    "        Xu = Xr\n",
    "    if (F1*F2)>0:\n",
    "        Xl = Xr\n",
    "    coe2.append(n)\n",
    "    n = n+1\n",
    "n=0       \n",
    "print   (\"Et metodo biseccion                 Et metodo falsa posicion\" )\n",
    "while n<16:\n",
    "    print (\"%s                         %s\"%(E1[n],E2[n]))\n",
    "    n = n+1\n",
    "\n",
    "plt.ylabel('Error relativo porcentual verdadero')\n",
    "plt.xlabel('iteraciones')\n",
    "plt.plot(coe1, E1,label=\"Et metodo falsa posicion\")\n",
    "plt.plot(coe2, E2,label=\"Et metodo biseccion\")\n",
    "plt.axis([-1, 20, -1, 6])\n",
    "plt.grid(True)\n",
    "plt.legend()\n",
    "plt.show()"
   ]
  },
  {
   "cell_type": "code",
   "execution_count": null,
   "metadata": {
    "collapsed": true
   },
   "outputs": [],
   "source": []
  }
 ],
 "metadata": {
  "kernelspec": {
   "display_name": "Python 3",
   "language": "python",
   "name": "python3"
  },
  "language_info": {
   "codemirror_mode": {
    "name": "ipython",
    "version": 3
   },
   "file_extension": ".py",
   "mimetype": "text/x-python",
   "name": "python",
   "nbconvert_exporter": "python",
   "pygments_lexer": "ipython3",
   "version": "3.5.1"
  }
 },
 "nbformat": 4,
 "nbformat_minor": 0
}
