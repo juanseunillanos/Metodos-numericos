{
 "cells": [
  {
   "cell_type": "code",
   "execution_count": 20,
   "metadata": {
    "collapsed": false
   },
   "outputs": [
    {
     "name": "stdout",
     "output_type": "stream",
     "text": [
      "Ingrese el numero de puntos: 3\n",
      "x a estimar: 2\n",
      "Ingrese el X0: 1\n",
      "Ingrese el X1: 4\n",
      "Ingrese el X2: 6\n",
      "Aproximacion a ln de 2 : 0.565844\n"
     ]
    }
   ],
   "source": [
    "##interpolacion newton\n",
    "import math\n",
    "\n",
    "n,X,xi,Fx,Fd,y,ea,Y2 = 0,[],2.0,[],[],[],[],0.0\n",
    "n = int(input(\"Ingrese el numero de puntos: \"))\n",
    "xi= float(input(\"x a estimar: \"))\n",
    "\n",
    "for i in range(n):\n",
    "    X.append(float(input(\"Ingrese el X%d: \"%(i))))\n",
    "    Fd.append([0.0]*n)\n",
    "    \n",
    "for k in range(n):\n",
    "    Fx.append(math.log(X[k]))\n",
    "\n",
    "def fun(n, xi, y,ea):\n",
    "    for i in range(0,n):\n",
    "        Fd[i][0] = Fx[i]\n",
    "    for j in range(1,n):\n",
    "        for i in range(0,n-j):\n",
    "            Fd[i][j]=(fdd[i+1][j-1]-fdd[i][j-1])/(X[i+j]-X[i])\n",
    "    xt = 1.0\n",
    "    y.append(Fd[0][0])\n",
    "    for order in range(1,n):\n",
    "        xt = xt* (xi - X[order-1])\n",
    "        Y2 = y[order-1] + Fd[0][order] * xt\n",
    "        ea.append(Y2 - y[order-1])\n",
    "        y.append(Y2)\n",
    "        \n",
    "    return Y2\n",
    "\n",
    "print (\"Aproximacion a ln de %d : %f\"%(xi,fun(n,xi,y,ea)))"
   ]
  },
  {
   "cell_type": "code",
   "execution_count": null,
   "metadata": {
    "collapsed": true
   },
   "outputs": [],
   "source": []
  }
 ],
 "metadata": {
  "kernelspec": {
   "display_name": "Python 3",
   "language": "python",
   "name": "python3"
  },
  "language_info": {
   "codemirror_mode": {
    "name": "ipython",
    "version": 3
   },
   "file_extension": ".py",
   "mimetype": "text/x-python",
   "name": "python",
   "nbconvert_exporter": "python",
   "pygments_lexer": "ipython3",
   "version": "3.5.1"
  }
 },
 "nbformat": 4,
 "nbformat_minor": 0
}
