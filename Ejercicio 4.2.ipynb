{
 "cells": [
  {
   "cell_type": "code",
   "execution_count": 7,
   "metadata": {
    "collapsed": false
   },
   "outputs": [
    {
     "name": "stdout",
     "output_type": "stream",
     "text": [
      "Orden n                     f^n(x)                      f(pi/3)                      Et\n",
      "0                       0.7071067811865476              0.7071067811865476              -41.42135623730952\n",
      "1                       -0.7071067811865476              0.5219866587632823              -4.397331752656464\n",
      "2                       -0.7071067811865476              0.4977544914034251              0.44910171931498155\n",
      "3                       0.7071067811865476              0.49986914693004414              0.026170613991172154\n",
      "4                       0.7071067811865476              0.5000075508106129              -0.0015101621225754869\n",
      "5                       -0.7071067811865476              0.5000003040003725              -6.080007450837144e-05\n",
      "6                       -0.7071067811865476              0.49999998779862515              2.4402749709828697e-06\n"
     ]
    }
   ],
   "source": [
    "import math\n",
    "Fx,h,x = [],math.pi/12,math.pi/4\n",
    "n,fac,aux = 0,0,0.0\n",
    "\n",
    "Fx.append(math.cos(x))\n",
    "Fx.append(-math.sin(x))\n",
    "Fx.append(-math.cos(x))\n",
    "Fx.append(math.sin(x))\n",
    "Fx.append(math.cos(x))\n",
    "Fx.append(-math.sin(x))\n",
    "Fx.append(-math.cos(x))\n",
    "\n",
    "\n",
    "\n",
    "print (\"Orden n                     f^n(x)                      f(pi/3)                      Et\")\n",
    "while n<7:\n",
    "    F = math.factorial(n)\n",
    "    if (n==0):\n",
    "        f = Fx[n]/F\n",
    "    else:\n",
    "        f = (Fx[n]/F)*h**n\n",
    "    aux = aux + f\n",
    "    Et = ((0.5-aux)/0.5)*100\n",
    "    print (\"%s                       %s              %s              %s\"%(n,Fx[n],aux,Et))\n",
    "    n = n+1"
   ]
  },
  {
   "cell_type": "code",
   "execution_count": null,
   "metadata": {
    "collapsed": true
   },
   "outputs": [],
   "source": []
  }
 ],
 "metadata": {
  "kernelspec": {
   "display_name": "Python 3",
   "language": "python",
   "name": "python3"
  },
  "language_info": {
   "codemirror_mode": {
    "name": "ipython",
    "version": 3
   },
   "file_extension": ".py",
   "mimetype": "text/x-python",
   "name": "python",
   "nbconvert_exporter": "python",
   "pygments_lexer": "ipython3",
   "version": "3.5.1"
  }
 },
 "nbformat": 4,
 "nbformat_minor": 0
}
