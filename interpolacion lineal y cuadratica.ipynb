{
 "cells": [
  {
   "cell_type": "code",
   "execution_count": 8,
   "metadata": {
    "collapsed": false
   },
   "outputs": [
    {
     "name": "stdout",
     "output_type": "stream",
     "text": [
      "ingrese los el valor de X0 1\n",
      "ingrese los el valor de Fx0 0\n",
      "ingrese los el valor de X1 6\n",
      "ingrese los el valor de Fx1 0.17\n",
      "[1.0, 6.0]\n",
      "[0.0, 0.17]\n"
     ]
    }
   ],
   "source": [
    "import math\n",
    "#En este se debe saber el valor exacto del punto que se tiene en la funcion\n",
    "X,x,fx=2,[],[]\n",
    " \n",
    "def lineal(): \n",
    "    for i in range(0,2):\n",
    "        x.append(float(input(\"ingrese los el valor de X%s \"%i)))\n",
    "        fx.append(float(input(\"ingrese los el valor de Fx%s \"%i)))\n",
    "            \n",
    "lineal()\n",
    "\n",
    "F1X1 = fx[0]+((fx[1]-fx(0))/(x[1]-x[0]))*(X-x[0])\n",
    "Et1 = (math.log(2)-F1X1)/math.log(2)*100\n",
    "\n",
    "print (\"Ln de 2 por interpolacion lineal entre 1 y 6: \",F1X1)\n",
    "print (\"Error: \",Et1)"
   ]
  },
  {
   "cell_type": "code",
   "execution_count": 4,
   "metadata": {
    "collapsed": false
   },
   "outputs": [
    {
     "name": "stdout",
     "output_type": "stream",
     "text": [
      "ingrese los el valor de X0 1\n",
      "ingrese los el valor de X1 6\n",
      "Ln de 2 por interpolacion lineal entre 1 y 6:  0.358351893845611\n",
      "Error:  48.30074998557687\n"
     ]
    }
   ],
   "source": [
    "#para Log(2)\n",
    "import math\n",
    "X =2\n",
    "\n",
    "def lineal(): \n",
    "    global X1,X0\n",
    "    X0=float(input(\"ingrese los el valor de X%s \"%0))\n",
    "    X1=float(input(\"ingrese los el valor de X%s \"%1))\n",
    "\n",
    "def fun(x):\n",
    "    F = math.log(x)\n",
    "    return F\n",
    "\n",
    "lineal()\n",
    "F1X1 = fun(X0)+((fun(X1)-fun(X0))/(X1-X0))*(X-X0)\n",
    "Et1 = (math.log(2)-F1X1)/math.log(2)*100\n",
    "X0,X1 = 1,4\n",
    "\n",
    "print (\"Ln de 2 por interpolacion lineal entre 1 y 6: \",F1X1)\n",
    "print (\"Error: \",Et1)"
   ]
  },
  {
   "cell_type": "code",
   "execution_count": 5,
   "metadata": {
    "collapsed": false
   },
   "outputs": [
    {
     "name": "stdout",
     "output_type": "stream",
     "text": [
      "Ingrese el valor a estimar: 2\n",
      "ingrese los el valor de X0 1\n",
      "ingrese los el valor de X1 4\n",
      "ingrese los el valor de X26\n",
      "Ln de 2 por interpolacion cuadratica 0.5658443469009827\n",
      "Error:  18.36591668108979\n"
     ]
    }
   ],
   "source": [
    "#cuadratica\n",
    "import math\n",
    "\n",
    "def cuadratica(): \n",
    "    global X0,X1,X2,X ,fx0,fx1,fx2\n",
    "    X =float(input(\"Ingrese el valor a estimar: \"))\n",
    "    X0=float(input(\"ingrese los el valor de X%s \"%0))\n",
    "    X1=float(input(\"ingrese los el valor de X%s \"%1))\n",
    "    X2 =float(input(\"ingrese los el valor de X%s\"%2))\n",
    "    fx0 = fun(X0)\n",
    "    fx1 = fun(X1)\n",
    "    fx2 = fun(X2)\n",
    "    \n",
    "\n",
    "def fun(x):\n",
    "    F = math.log(x)\n",
    "    return F\n",
    "\n",
    "cuadratica()\n",
    "\n",
    "b0 = fx0\n",
    "b1 = (fx1-fx0)/(X1-X0)\n",
    "b2 = (((fx2-fx1)/(X2-X1))-((fx1-fx0)/(X1-X0)))/(X2-X0)\n",
    "\n",
    "f2x = b0+b1*(X-X0)+b2*(X-X0)*(X-X1)\n",
    "Et = (math.log(2)-f2x)/math.log(2)*100\n",
    "\n",
    "print (\"Ln de 2 por interpolacion cuadratica\",f2x)\n",
    "print (\"Error: \",Et)"
   ]
  },
  {
   "cell_type": "code",
   "execution_count": null,
   "metadata": {
    "collapsed": true
   },
   "outputs": [],
   "source": []
  }
 ],
 "metadata": {
  "kernelspec": {
   "display_name": "Python 3",
   "language": "python",
   "name": "python3"
  },
  "language_info": {
   "codemirror_mode": {
    "name": "ipython",
    "version": 3
   },
   "file_extension": ".py",
   "mimetype": "text/x-python",
   "name": "python",
   "nbconvert_exporter": "python",
   "pygments_lexer": "ipython3",
   "version": "3.5.1"
  }
 },
 "nbformat": 4,
 "nbformat_minor": 0
}
