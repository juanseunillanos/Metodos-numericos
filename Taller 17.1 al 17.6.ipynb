{
 "cells": [
  {
   "cell_type": "code",
   "execution_count": 9,
   "metadata": {
    "collapsed": false
   },
   "outputs": [
    {
     "name": "stdout",
     "output_type": "stream",
     "text": [
      "Error estándar de la estimación y vs x 1.562409\n",
      "coeficiente de correlacion 0.917129\n"
     ]
    }
   ],
   "source": [
    "#17.6\n",
    "import math\n",
    "import matplotlib.pyplot as plt\n",
    "import matplotlib.pyplot as plt1\n",
    "z,x,y,XY1,xy,x1,t=0.0,0.0,0.0,0.0,0.0,0.0,[]\n",
    "n=9\n",
    "R=0.0\n",
    "y1=[]\n",
    "V1=[2,4,6,7,10,11,14,17,20]\n",
    "V2=[1,2,5,2,8,7,6,9,12]\n",
    "\n",
    "def sumatoria(V1,V2):\n",
    "    global XY1,x,y,z\n",
    "    XY1,x,y,z=0.0,0.0,0.0,0.0\n",
    "    for i in range(n):\n",
    "        XY1=V1[i]*V2[i]+XY1\n",
    "        x=V1[i]+x\n",
    "        y=V2[i]+y\n",
    "    z=((n*XY1)-(x*y))\n",
    "    parte2(z,x,y,V1,V2)\n",
    "       \n",
    "def parte2(z,x,y,V1,V2):\n",
    "    global x1,y1\n",
    "    x1,y1,c,d,R,f=0.0,0.0,0.0,0.0,0.0,0.0\n",
    "    for i in range(n):\n",
    "        x1=(V1[i]*V1[i])+x1\n",
    "        y1=(V2[i]*V2[i])+y1\n",
    "    c=math.sqrt(abs((n*(x1))-((x)**2)))\n",
    "    d=math.sqrt(abs((n*(y1))-((y)**2)))\n",
    "    f=c*d\n",
    "    R=z/f\n",
    "    regresion(x,y,z,c,d)\n",
    "    print(\"coeficiente de correlacion %f\"%R)\n",
    "    \n",
    "    \n",
    "def regresion(x,y,z,c,d):\n",
    "    global a1,a0,t,y1,Sr,Sr1,error,error1\n",
    "    a1,a0,t,y1,Sr,Sr1,error,error1=0.0,0.0,[],[],0.0,0.0,0.0,0.0\n",
    "    a1 = z/c**2\n",
    "    a0 = (y/n)-a1*(x/n)\n",
    "    for i in range(30):\n",
    "        y1.append(a0+a1*i)\n",
    "        t.append(i)   \n",
    "    for k in range(n):\n",
    "        Sr += (V2[k]-a0-a1*V1[k])**2\n",
    "    error =  math.sqrt(Sr/(n-2))\n",
    "    print (\"Error estándar de la estimación y vs x %f\"%(error))\n",
    "           \n",
    "    \n",
    "sumatoria(V1,V2)\n",
    "plt.ylabel('Velocidad calculada b')\n",
    "plt.xlabel('Velocidad medida')\n",
    "plt.plot(V1,V2,'ro')\n",
    "plt.plot(t,y1)\n",
    "plt.axis([0, 25, 0, 20])\n",
    "plt.grid(True)\n",
    "plt.show()"
   ]
  },
  {
   "cell_type": "code",
   "execution_count": 1,
   "metadata": {
    "collapsed": false
   },
   "outputs": [
    {
     "data": {
      "image/png": "[encoded data removed]",
      "text/plain": [
       "<matplotlib.figure.Figure at 0x1d3ddefec50>"
      ]
     },
     "metadata": {},
     "output_type": "display_data"
    }
   ],
   "source": [
    "#17.2\n",
    "\n",
    "import matplotlib.pyplot as plt\n",
    "from matplotlib.pylab import hist,show\n",
    "%matplotlib inline\n",
    "d = [8.8,9.5,9.8,9.4,10,9.4,10.1,9.2,11.3,9.4,10,10.4,7.9,10.4,9.8,9.8,9.5,8.9,8.8,10.6,10.1,9.5,9.6,10.2,8.9]\n",
    "hist(d)\n",
    "plt.title('Histograma')\n",
    "show()"
   ]
  },
  {
   "cell_type": "code",
   "execution_count": 5,
   "metadata": {
    "collapsed": false
   },
   "outputs": [
    {
     "name": "stdout",
     "output_type": "stream",
     "text": [
      "Media             Varianza           Desviacion estandar              Coeficiente de variacion\n",
      "9.652000          0.494267           0.703041                         0.072839 \n",
      "intervalo de confianza del 95% (9.376408,9.927592)\n"
     ]
    }
   ],
   "source": [
    "#17.1\n",
    "import math\n",
    "n,suma,med=25,0.0,0.0\n",
    "d=[8.8,9.5,9.8,9.4,10,9.4,10.1,9.2,11.3,9.4,10,10.4,7.9,10.4,9.8,9.8,9.5,8.9,8.8,10.6,10.1,9.5,9.6,10.2,8.9]\n",
    "\n",
    "def media():\n",
    "    global med\n",
    "    med=0.0\n",
    "    for i in range(0,n):\n",
    "        med += d[i]\n",
    "    return (med/n)\n",
    "\n",
    "\n",
    "\n",
    "def varianza():\n",
    "    global suma\n",
    "    suma=0.0\n",
    "    for i in range(n):\n",
    "        suma += (d[i]-med)**2\n",
    "    var = suma/(n-1)\n",
    "    return (var)\n",
    "\n",
    "\n",
    "med=media()\n",
    "desviacion = math.sqrt(varianza())\n",
    "coeVariacion = (desviacion/med)\n",
    "Inf = med-(1.96*(desviacion/math.sqrt(n)))\n",
    "Sup = med+(1.96*(desviacion/math.sqrt(n)))\n",
    "\n",
    "print (\"Media             Varianza           Desviacion estandar              Coeficiente de variacion\")\n",
    "print (\"%f          %f           %f                         %f \"%(med,varianza(),desviacion,coeVariacion))\n",
    "print (\"intervalo de confianza del 95%s (%f,%f)\"%(\"%\",Inf,Sup))"
   ]
  },
  {
   "cell_type": "code",
   "execution_count": 7,
   "metadata": {
    "collapsed": false
   },
   "outputs": [
    {
     "name": "stdout",
     "output_type": "stream",
     "text": [
      "Media             Varianza           Desviacion estandar              Coeficiente de variacion\n",
      "28.003571          1.204061           1.097297                         0.039184 \n",
      "intervalo de confianza del 95% (27.597127,28.410016)\n",
      "Valores inferior y superior que agrupa al 68% de los datos (26.906274,29.100868)\n"
     ]
    },
    {
     "data": {
      "image/png": "[encoded data removed]",
      "text/plain": [
       "<matplotlib.figure.Figure at 0x21dd3490e80>"
      ]
     },
     "metadata": {},
     "output_type": "display_data"
    }
   ],
   "source": [
    "#17.3\n",
    "from matplotlib.pylab import hist,show\n",
    "import matplotlib.pyplot as plt\n",
    "%matplotlib inline\n",
    "import math\n",
    "n,suma,med=28,0.0,0.0\n",
    "d=[28.65,26.55,26.65,27.65,27.35,28.35,26.85,28.65,29.65,27.85,27.05,28.25,28.35,26.75,27.65,28.45,28.65,28.45,\n",
    "   31.65,26.35,27.75,29.25,27.65,28.65,27.65,28.55,27.55,27.25]\n",
    "\n",
    "\n",
    "def media():\n",
    "    global med\n",
    "    med=0.0\n",
    "    for i in range(0,n):\n",
    "        med += d[i]\n",
    "    return (med/n)\n",
    "\n",
    "\n",
    "\n",
    "def varianza():\n",
    "    global suma\n",
    "    suma=0.0\n",
    "    for i in range(n):\n",
    "        suma += (d[i]-med)**2\n",
    "    var = suma/(n-1)\n",
    "    return (var)\n",
    "\n",
    "\n",
    "med=media()\n",
    "desviacion = math.sqrt(varianza())\n",
    "coeVariacion = (desviacion/med)\n",
    "Inf = med-(1.96*(desviacion/math.sqrt(n)))\n",
    "Sup = med+(1.96*(desviacion/math.sqrt(n)))\n",
    "\n",
    "print (\"Media             Varianza           Desviacion estandar              Coeficiente de variacion\")\n",
    "print (\"%f          %f           %f                         %f \"%(med,varianza(),desviacion,coeVariacion))\n",
    "print (\"intervalo de confianza del 95%s (%f,%f)\"%(\"%\",Inf,Sup))\n",
    "d.sort() \n",
    "print (\"Valores inferior y superior son al 68%s de los datos (%f,%f)\"%(\"%\",med-desviacion,med+desviacion))\n",
    "hist(d, bins=12)\n",
    "plt.title('Histograma')\n",
    "show()"
   ]
  },
  {
   "cell_type": "code",
   "execution_count": 24,
   "metadata": {
    "collapsed": false
   },
   "outputs": [
    {
     "name": "stdout",
     "output_type": "stream",
     "text": [
      "coeficiente de correlacion 0.914767\n",
      "Error estándar de la estimación y vs x 1.065010\n",
      "coeficiente de correlacion 0.914767\n",
      "Error estándar de la estimación x vs y 2.764026\n",
      "El coeficiente de correlación es el mismo en ambos casos, porque así se cambien su relación sigue siendo directamente proporcional. En el primer caso los datos están menos dispersos comparado con el segundo caso, esto se puede validar comparando el error estándar de cada uno.\n"
     ]
    }
   ],
   "source": [
    "#17.4\n",
    "import math\n",
    "import matplotlib.pyplot as plt\n",
    "import matplotlib.pyplot as plt1\n",
    "z,x,y,XY1,xy,x1,t=0.0,0.0,0.0,0.0,0.0,0.0,[]\n",
    "n,h=10,1\n",
    "R=0.0\n",
    "y1=[]\n",
    "V1=[0,2,4,6,9,11,12,15,17,19]\n",
    "V2=[5,6,7,6,9,8,7,10,12,12]\n",
    "\n",
    "def sumatoria(V1,V2):\n",
    "    global XY1,x,y,z\n",
    "    XY1,x,y,z=0.0,0.0,0.0,0.0\n",
    "    for i in range(n):\n",
    "        XY1=V1[i]*V2[i]+XY1\n",
    "        x=V1[i]+x\n",
    "        y=V2[i]+y\n",
    "    z=((n*XY1)-(x*y))\n",
    "    parte2(z,x,y,V1,V2)\n",
    "       \n",
    "def parte2(z,x,y,V1,V2):\n",
    "    global x1,y1\n",
    "    x1,y1,c,d,R,f=0.0,0.0,0.0,0.0,0.0,0.0\n",
    "    for i in range(n):\n",
    "        x1=(V1[i]*V1[i])+x1\n",
    "        y1=(V2[i]*V2[i])+y1\n",
    "    c=math.sqrt(abs((n*(x1))-((x)**2)))\n",
    "    d=math.sqrt(abs((n*(y1))-((y)**2)))\n",
    "    f=c*d\n",
    "    R=z/f\n",
    "    regresion(x,y,z,c,d)\n",
    "    print(\"coeficiente de correlacion %f\"%R)\n",
    "    \n",
    "    \n",
    "def regresion(x,y,z,c,d):\n",
    "    global a1,a0,t,y1,Sr,Sr1,error,error1\n",
    "    a1,a0,t,y1,Sr,Sr1,error,error1=0.0,0.0,[],[],0.0,0.0,0.0,0.0\n",
    "    a1 = z/c**2\n",
    "    a0 = (y/n)-a1*(x/n)\n",
    "    for i in range(30):\n",
    "        y1.append(a0+a1*i)\n",
    "        t.append(i)   \n",
    "    for k in range(n):\n",
    "        Sr += (V2[k]-a0-a1*V1[k])**2\n",
    "        Sr1 += (V1[k]-a0-a1*V2[k])**2\n",
    "    error =  math.sqrt(Sr/(n-2))\n",
    "    error1 = math.sqrt(Sr1/(n-2))\n",
    "    \n",
    "           \n",
    "    \n",
    "sumatoria(V1,V2)\n",
    "print (\"Error estándar de la estimación y vs x %f\"%(error))\n",
    "plt.title('Y vs X')\n",
    "plt.ylabel('Y')\n",
    "plt.xlabel('X')\n",
    "plt.plot(V1, V2,'ro')\n",
    "plt.plot(t,y1)\n",
    "plt.axis([-5, 20, 0, 20])\n",
    "plt.grid(True)\n",
    "plt.show()\n",
    "sumatoria(V2,V1)\n",
    "print (\"Error estándar de la estimación x vs y %f\"%(error1))\n",
    "plt1.title('X vs Y')\n",
    "plt1.ylabel('X')\n",
    "plt1.xlabel('Y')\n",
    "plt1.plot(V2, V1,'ro')\n",
    "plt1.plot(t,y1)\n",
    "plt1.axis([0, 20, -5, 20])\n",
    "plt1.grid(True)\n",
    "plt1.show()\n",
    "print (\"El coeficiente de correlación es el mismo en ambos casos, porque así se cambien su relación sigue siendo directamente \\\n",
    "proporcional. En el primer caso los datos están menos dispersos comparado con el segundo caso, esto se puede validar comparando\\\n",
    " el error estándar de cada uno.\")"
   ]
  },
  {
   "cell_type": "code",
   "execution_count": 29,
   "metadata": {
    "collapsed": false
   },
   "outputs": [
    {
     "name": "stdout",
     "output_type": "stream",
     "text": [
      "coeficiente de correlacion 0.914767\n",
      "Error estándar de la estimación y vs x 1.065010\n",
      "2\n",
      "coeficiente de correlacion 0.921805\n",
      "Error estándar de la estimación y vs x 1.360835\n"
     ]
    }
   ],
   "source": [
    "#17.5\n",
    "#17.4\n",
    "import math\n",
    "import matplotlib.pyplot as plt\n",
    "import matplotlib.pyplot as plt1\n",
    "z,x,y,XY1,xy,x1,t=0.0,0.0,0.0,0.0,0.0,0.0,[]\n",
    "n,h=10,1\n",
    "R=0.0\n",
    "y1=[]\n",
    "V1=[0,2,4,6,9,11,12,15,17,19]\n",
    "V2=[5,6,7,6,9,8,7,10,12,12]\n",
    "\n",
    "def sumatoria(V1,V2):\n",
    "    global XY1,x,y,z\n",
    "    XY1,x,y,z=0.0,0.0,0.0,0.0\n",
    "    for i in range(n):\n",
    "        XY1=V1[i]*V2[i]+XY1\n",
    "        x=V1[i]+x\n",
    "        y=V2[i]+y\n",
    "    z=((n*XY1)-(x*y))\n",
    "    parte2(z,x,y,V1,V2)\n",
    "       \n",
    "def parte2(z,x,y,V1,V2):\n",
    "    global x1,y1\n",
    "    x1,y1,c,d,R,f=0.0,0.0,0.0,0.0,0.0,0.0\n",
    "    for i in range(n):\n",
    "        x1=(V1[i]*V1[i])+x1\n",
    "        y1=(V2[i]*V2[i])+y1\n",
    "    c=math.sqrt(abs((n*(x1))-((x)**2)))\n",
    "    d=math.sqrt(abs((n*(y1))-((y)**2)))\n",
    "    f=c*d\n",
    "    R=z/f\n",
    "    regresion(x,y,z,c,d)\n",
    "    print(\"coeficiente de correlacion %f\"%R)\n",
    "    \n",
    "    \n",
    "def regresion(x,y,z,c,d):\n",
    "    global a1,a0,t,y1,Sr,Sr1,error,error1\n",
    "    a1,a0,t,y1,Sr,Sr1,error,error1=0.0,0.0,[],[],0.0,0.0,0.0,0.0\n",
    "    a1 = z/c**2\n",
    "    a0 = (y/n)-a1*(x/n)\n",
    "    for i in range(30):\n",
    "        y1.append(a0+a1*i)\n",
    "        t.append(i)   \n",
    "    for k in range(n):\n",
    "        Sr += (V2[k]-a0-a1*V1[k])**2\n",
    "        Sr1 += (V1[k]-a0-a1*V2[k])**2\n",
    "    error =  math.sqrt(Sr/(n-2))\n",
    "    error1 = math.sqrt(Sr1/(n-2))\n",
    "    \n",
    "           \n",
    "    \n",
    "sumatoria(V1,V2)\n",
    "print (\"Error estándar de la estimación y vs x %f\"%(error))\n",
    "plt.title('Y vs X')\n",
    "plt.ylabel('Y')\n",
    "plt.xlabel('X')\n",
    "plt.plot(V1, V2,'ro')\n",
    "plt.plot(t,y1)\n",
    "plt.axis([-5, 20, 0, 20])\n",
    "plt.grid(True)\n",
    "plt.show()\n",
    "print(h)\n",
    "if(h>1):\n",
    "    n=11\n",
    "    V1=[0,2,4,6,9,11,12,15,17,19,22]\n",
    "    V2=[5,6,7,6,9,8,7,10,12,12,16]\n",
    "    sumatoria(V1,V2)\n",
    "    print (\"Error estándar de la estimación y vs x %f\"%(error))\n",
    "    plt1.title('X vs Y')\n",
    "    plt1.ylabel('X')\n",
    "    plt1.xlabel('Y')\n",
    "    plt1.plot(V1, V2,'ro')\n",
    "    plt1.plot(t,y1)\n",
    "    plt1.axis([0, 20, -5, 20])\n",
    "    plt1.grid(True)\n",
    "    plt1.show()"
   ]
  },
  {
   "cell_type": "code",
   "execution_count": null,
   "metadata": {
    "collapsed": true
   },
   "outputs": [],
   "source": []
  }
 ],
 "metadata": {
  "kernelspec": {
   "display_name": "Python 3",
   "language": "python",
   "name": "python3"
  },
  "language_info": {
   "codemirror_mode": {
    "name": "ipython",
    "version": 3
   },
   "file_extension": ".py",
   "mimetype": "text/x-python",
   "name": "python",
   "nbconvert_exporter": "python",
   "pygments_lexer": "ipython3",
   "version": "3.5.1"
  }
 },
 "nbformat": 4,
 "nbformat_minor": 0
}
