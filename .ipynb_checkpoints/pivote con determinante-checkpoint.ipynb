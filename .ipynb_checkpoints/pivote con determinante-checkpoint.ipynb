{
 "cells": [
  {
   "cell_type": "code",
   "execution_count": 5,
   "metadata": {
    "collapsed": false
   },
   "outputs": [
    {
     "name": "stdout",
     "output_type": "stream",
     "text": [
      "numero de incognitas2\n",
      "Ingrese el elemento 1 del vector de soluciones: 3\n",
      "Ingrese el Elemento 11 de la matriz de coeficientes: 4\n",
      "Ingrese el Elemento 12 de la matriz de coeficientes: 5\n",
      "Ingrese el elemento 2 del vector de soluciones: 3\n",
      "Ingrese el Elemento 21 de la matriz de coeficientes: 7\n",
      "Ingrese el Elemento 22 de la matriz de coeficientes: 8\n",
      "\n",
      "determinante: 3.000000\n",
      "\n",
      "valor incognita X1 es -3.000000\n",
      "\n",
      "valor incognita X2 es 3.000000\n"
     ]
    }
   ],
   "source": [
    "import math\n",
    "m,a,x,n,det,fac = [],[],[],0,1.0,0.0\n",
    "n = int(input(\"numero de incognitas\"))\n",
    "\n",
    "for d in range(0,n):\n",
    "    m.append([0.0]*n)\n",
    "\n",
    "for i in range(0,n):\n",
    "    k=i+1\n",
    "    a.append(float(input(\"Ingrese el elemento %d del vector de soluciones: \"%k)))\n",
    "    x.insert(i,0.0)\n",
    "    for j in range(0,n):\n",
    "        h = j+1\n",
    "        m[i][j] = float(input(\"Ingrese el Elemento %d%d de la matriz de coeficientes: \" %(k,h)))\n",
    "        \n",
    "def pivote():\n",
    "    p,k=0,0\n",
    "    p=k\n",
    "    gran = abs(m[k][k])\n",
    "    for i in range(k+1,n):\n",
    "        ton = abs(m[i][k])\n",
    "        if (ton>gran):\n",
    "            gran=ton\n",
    "            p=i\n",
    "    if (p!=k):\n",
    "        for j in range(k,n):\n",
    "            ton=m[p][j]\n",
    "            m[p][j]=m[k][j]\n",
    "            m[k][j]=ton\n",
    "        ton=a[p]\n",
    "        a[p]=a[k]\n",
    "        a[k]=ton\n",
    "        \n",
    "def haciaAde():\n",
    "    for k in range(0,n-1):\n",
    "        for i in range(k+1,n):\n",
    "            fac = m[i][k]/m[k][k]\n",
    "            for j in range (k+1,n):\n",
    "                m[i][j]=m[i][j]-fac*m[k][j]\n",
    "            a[i]=a[i]-fac*a[k]\n",
    "def haciaAt():\n",
    "    x[n-1]=a[n-1]/m[n-1][n-1]\n",
    "    i=n-1\n",
    "    while (i>=0):\n",
    "        y = a[i]\n",
    "        for j in range(i+1,n):\n",
    "            y=y-x[j]*m[i][j]\n",
    "        x[i]=y/m[i][i]\n",
    "        i -= 1\n",
    "    for i in range(0,n):\n",
    "        k=i+1\n",
    "        print (\"\")\n",
    "        print (\"valor incognita X%d es %f\"%(k,x[i]))\n",
    "        \n",
    "def determinante():\n",
    "    det,d=1.0,0\n",
    "    det = m[d][d]*m[d+1][d+1]\n",
    "    for d in range(2,n):\n",
    "        det = det * m[d][d]\n",
    "    print (\"\")\n",
    "    print (\"determinante: %f\"%det)\n",
    "\n",
    "pivote()\n",
    "haciaAde()\n",
    "determinante()\n",
    "haciaAt()"
   ]
  },
  {
   "cell_type": "code",
   "execution_count": null,
   "metadata": {
    "collapsed": true
   },
   "outputs": [],
   "source": []
  }
 ],
 "metadata": {
  "kernelspec": {
   "display_name": "Python 3",
   "language": "python",
   "name": "python3"
  },
  "language_info": {
   "codemirror_mode": {
    "name": "ipython",
    "version": 3
   },
   "file_extension": ".py",
   "mimetype": "text/x-python",
   "name": "python",
   "nbconvert_exporter": "python",
   "pygments_lexer": "ipython3",
   "version": "3.5.1"
  }
 },
 "nbformat": 4,
 "nbformat_minor": 0
}
