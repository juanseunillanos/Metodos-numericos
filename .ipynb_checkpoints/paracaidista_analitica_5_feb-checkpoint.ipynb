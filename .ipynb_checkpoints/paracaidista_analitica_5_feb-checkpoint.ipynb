{
 "cells": [
  {
   "cell_type": "code",
   "execution_count": 32,
   "metadata": {
    "collapsed": false
   },
   "outputs": [
    {
     "name": "stdout",
     "output_type": "stream",
     "text": [
      "0.0\n",
      "8.953182207901257\n",
      "16.404980802870615\n",
      "22.607166909502304\n",
      "27.769291463870154\n",
      "32.06576523242002\n",
      "35.64175156312909\n",
      "38.61807096510561\n",
      "41.09528322582064\n",
      "43.15708498693595\n"
     ]
    }
   ],
   "source": [
    "import math\n",
    "g = 9.8\n",
    "m = 68.1\n",
    "c =12.5\n",
    "\n",
    "\n",
    "def vt(g, m,c,i):\n",
    " vta=(((g*m)/c)*(1-math.exp(-(c/m)*i)))\n",
    " print (vta)          \n",
    "\n",
    "\n",
    "for i in range(0,10):\n",
    " vt(g,m,c,i)"
   ]
  },
  {
   "cell_type": "code",
   "execution_count": null,
   "metadata": {
    "collapsed": true
   },
   "outputs": [],
   "source": []
  },
  {
   "cell_type": "code",
   "execution_count": null,
   "metadata": {
    "collapsed": true
   },
   "outputs": [],
   "source": []
  }
 ],
 "metadata": {
  "kernelspec": {
   "display_name": "Python 3",
   "language": "python",
   "name": "python3"
  },
  "language_info": {
   "codemirror_mode": {
    "name": "ipython",
    "version": 3
   },
   "file_extension": ".py",
   "mimetype": "text/x-python",
   "name": "python",
   "nbconvert_exporter": "python",
   "pygments_lexer": "ipython3",
   "version": "3.5.1"
  }
 },
 "nbformat": 4,
 "nbformat_minor": 0
}
